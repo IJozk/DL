{
  "nbformat": 4,
  "nbformat_minor": 0,
  "metadata": {
    "colab": {
      "provenance": []
    },
    "kernelspec": {
      "name": "python3",
      "display_name": "Python 3"
    },
    "language_info": {
      "name": "python"
    }
  },
  "cells": [
    {
      "cell_type": "code",
      "source": [
        "!wget https://github.com/IJozk/DL/raw/99d1bebb91fd554f1baf97eacf7eaab8d9bb32fc/src/Pesos_y_modelos/model2_lstm256_dropout03.keras\n",
        "!wget https://github.com/IJozk/DL/raw/99d1bebb91fd554f1baf97eacf7eaab8d9bb32fc/src/Pesos_y_modelos/model3_lstm256x2_dropout03_lstm128.keras\n",
        "!wget https://github.com/IJozk/DL/raw/99d1bebb91fd554f1baf97eacf7eaab8d9bb32fc/src/params_quijote/char2idx.pkl\n",
        "!wget https://github.com/IJozk/DL/raw/99d1bebb91fd554f1baf97eacf7eaab8d9bb32fc/src/params_quijote/idx2char.pkl\n",
        "!wget https://github.com/IJozk/DL/raw/99d1bebb91fd554f1baf97eacf7eaab8d9bb32fc/src/params_quijote/params.pkl"
      ],
      "metadata": {
        "colab": {
          "base_uri": "https://localhost:8080/"
        },
        "id": "36Kbfzgo3yF7",
        "outputId": "c028aef7-53ad-437a-cd2c-7c227ccd5c2d"
      },
      "execution_count": 6,
      "outputs": [
        {
          "output_type": "stream",
          "name": "stdout",
          "text": [
            "--2025-06-30 03:33:45--  https://github.com/IJozk/DL/raw/99d1bebb91fd554f1baf97eacf7eaab8d9bb32fc/src/Pesos_y_modelos/model2_lstm256_dropout03.keras\n",
            "Resolving github.com (github.com)... 20.27.177.113\n",
            "Connecting to github.com (github.com)|20.27.177.113|:443... connected.\n",
            "HTTP request sent, awaiting response... 302 Found\n",
            "Location: https://raw.githubusercontent.com/IJozk/DL/99d1bebb91fd554f1baf97eacf7eaab8d9bb32fc/src/Pesos_y_modelos/model2_lstm256_dropout03.keras [following]\n",
            "--2025-06-30 03:33:45--  https://raw.githubusercontent.com/IJozk/DL/99d1bebb91fd554f1baf97eacf7eaab8d9bb32fc/src/Pesos_y_modelos/model2_lstm256_dropout03.keras\n",
            "Resolving raw.githubusercontent.com (raw.githubusercontent.com)... 185.199.111.133, 185.199.110.133, 185.199.108.133, ...\n",
            "Connecting to raw.githubusercontent.com (raw.githubusercontent.com)|185.199.111.133|:443... connected.\n",
            "HTTP request sent, awaiting response... 200 OK\n",
            "Length: 4122064 (3.9M) [application/octet-stream]\n",
            "Saving to: ‘model2_lstm256_dropout03.keras’\n",
            "\n",
            "model2_lstm256_drop 100%[===================>]   3.93M  10.9MB/s    in 0.4s    \n",
            "\n",
            "2025-06-30 03:33:46 (10.9 MB/s) - ‘model2_lstm256_dropout03.keras’ saved [4122064/4122064]\n",
            "\n",
            "--2025-06-30 03:33:46--  https://github.com/IJozk/DL/raw/99d1bebb91fd554f1baf97eacf7eaab8d9bb32fc/src/Pesos_y_modelos/model3_lstm256x2_dropout03_lstm128.keras\n",
            "Resolving github.com (github.com)... 20.27.177.113\n",
            "Connecting to github.com (github.com)|20.27.177.113|:443... connected.\n",
            "HTTP request sent, awaiting response... 302 Found\n",
            "Location: https://raw.githubusercontent.com/IJozk/DL/99d1bebb91fd554f1baf97eacf7eaab8d9bb32fc/src/Pesos_y_modelos/model3_lstm256x2_dropout03_lstm128.keras [following]\n",
            "--2025-06-30 03:33:46--  https://raw.githubusercontent.com/IJozk/DL/99d1bebb91fd554f1baf97eacf7eaab8d9bb32fc/src/Pesos_y_modelos/model3_lstm256x2_dropout03_lstm128.keras\n",
            "Resolving raw.githubusercontent.com (raw.githubusercontent.com)... 185.199.111.133, 185.199.110.133, 185.199.108.133, ...\n",
            "Connecting to raw.githubusercontent.com (raw.githubusercontent.com)|185.199.111.133|:443... connected.\n",
            "HTTP request sent, awaiting response... 200 OK\n",
            "Length: 10740193 (10M) [application/octet-stream]\n",
            "Saving to: ‘model3_lstm256x2_dropout03_lstm128.keras’\n",
            "\n",
            "model3_lstm256x2_dr 100%[===================>]  10.24M  22.9MB/s    in 0.4s    \n",
            "\n",
            "2025-06-30 03:33:47 (22.9 MB/s) - ‘model3_lstm256x2_dropout03_lstm128.keras’ saved [10740193/10740193]\n",
            "\n",
            "--2025-06-30 03:33:47--  https://github.com/IJozk/DL/raw/99d1bebb91fd554f1baf97eacf7eaab8d9bb32fc/src/params_quijote/char2idx.pkl\n",
            "Resolving github.com (github.com)... 20.27.177.113\n",
            "Connecting to github.com (github.com)|20.27.177.113|:443... connected.\n",
            "HTTP request sent, awaiting response... 302 Found\n",
            "Location: https://raw.githubusercontent.com/IJozk/DL/99d1bebb91fd554f1baf97eacf7eaab8d9bb32fc/src/params_quijote/char2idx.pkl [following]\n",
            "--2025-06-30 03:33:47--  https://raw.githubusercontent.com/IJozk/DL/99d1bebb91fd554f1baf97eacf7eaab8d9bb32fc/src/params_quijote/char2idx.pkl\n",
            "Resolving raw.githubusercontent.com (raw.githubusercontent.com)... 185.199.108.133, 185.199.109.133, 185.199.110.133, ...\n",
            "Connecting to raw.githubusercontent.com (raw.githubusercontent.com)|185.199.108.133|:443... connected.\n",
            "HTTP request sent, awaiting response... 200 OK\n",
            "Length: 396 [application/octet-stream]\n",
            "Saving to: ‘char2idx.pkl’\n",
            "\n",
            "char2idx.pkl        100%[===================>]     396  --.-KB/s    in 0s      \n",
            "\n",
            "2025-06-30 03:33:48 (6.54 MB/s) - ‘char2idx.pkl’ saved [396/396]\n",
            "\n",
            "--2025-06-30 03:33:48--  https://github.com/IJozk/DL/raw/99d1bebb91fd554f1baf97eacf7eaab8d9bb32fc/src/params_quijote/idx2char.pkl\n",
            "Resolving github.com (github.com)... 20.27.177.113\n",
            "Connecting to github.com (github.com)|20.27.177.113|:443... connected.\n",
            "HTTP request sent, awaiting response... 302 Found\n",
            "Location: https://raw.githubusercontent.com/IJozk/DL/99d1bebb91fd554f1baf97eacf7eaab8d9bb32fc/src/params_quijote/idx2char.pkl [following]\n",
            "--2025-06-30 03:33:48--  https://raw.githubusercontent.com/IJozk/DL/99d1bebb91fd554f1baf97eacf7eaab8d9bb32fc/src/params_quijote/idx2char.pkl\n",
            "Resolving raw.githubusercontent.com (raw.githubusercontent.com)... 185.199.111.133, 185.199.110.133, 185.199.108.133, ...\n",
            "Connecting to raw.githubusercontent.com (raw.githubusercontent.com)|185.199.111.133|:443... connected.\n",
            "HTTP request sent, awaiting response... 200 OK\n",
            "Length: 396 [application/octet-stream]\n",
            "Saving to: ‘idx2char.pkl’\n",
            "\n",
            "idx2char.pkl        100%[===================>]     396  --.-KB/s    in 0s      \n",
            "\n",
            "2025-06-30 03:33:49 (6.41 MB/s) - ‘idx2char.pkl’ saved [396/396]\n",
            "\n",
            "--2025-06-30 03:33:49--  https://github.com/IJozk/DL/raw/99d1bebb91fd554f1baf97eacf7eaab8d9bb32fc/src/params_quijote/params.pkl\n",
            "Resolving github.com (github.com)... 20.27.177.113\n",
            "Connecting to github.com (github.com)|20.27.177.113|:443... connected.\n",
            "HTTP request sent, awaiting response... 302 Found\n",
            "Location: https://raw.githubusercontent.com/IJozk/DL/99d1bebb91fd554f1baf97eacf7eaab8d9bb32fc/src/params_quijote/params.pkl [following]\n",
            "--2025-06-30 03:33:49--  https://raw.githubusercontent.com/IJozk/DL/99d1bebb91fd554f1baf97eacf7eaab8d9bb32fc/src/params_quijote/params.pkl\n",
            "Resolving raw.githubusercontent.com (raw.githubusercontent.com)... 185.199.111.133, 185.199.110.133, 185.199.108.133, ...\n",
            "Connecting to raw.githubusercontent.com (raw.githubusercontent.com)|185.199.111.133|:443... connected.\n",
            "HTTP request sent, awaiting response... 200 OK\n",
            "Length: 45 [application/octet-stream]\n",
            "Saving to: ‘params.pkl’\n",
            "\n",
            "params.pkl          100%[===================>]      45  --.-KB/s    in 0s      \n",
            "\n",
            "2025-06-30 03:33:50 (524 KB/s) - ‘params.pkl’ saved [45/45]\n",
            "\n"
          ]
        }
      ]
    },
    {
      "cell_type": "code",
      "source": [
        "import tensorflow as tf\n",
        "import pickle\n",
        "import numpy as np"
      ],
      "metadata": {
        "id": "msJqskab1rZr"
      },
      "execution_count": 7,
      "outputs": []
    },
    {
      "cell_type": "code",
      "execution_count": 8,
      "metadata": {
        "id": "sO5TfUiO1XjQ"
      },
      "outputs": [],
      "source": [
        "model = tf.keras.models.load_model(\"/content/model2_lstm256_dropout03.keras\")\n",
        "model1 = tf.keras.models.load_model(\"/content/model3_lstm256x2_dropout03_lstm128.keras\")\n",
        "\n",
        "with open(\"char2idx.pkl\", \"rb\") as f:\n",
        "    char2idx = pickle.load(f)\n",
        "\n",
        "with open(\"idx2char.pkl\", \"rb\") as f:\n",
        "    idx2char = pickle.load(f)\n",
        "\n",
        "with open(\"params.pkl\", \"rb\") as f:\n",
        "    params = pickle.load(f)\n",
        "\n",
        "SEQ_LENGTH = params[\"SEQ_LENGTH\"]\n",
        "NUM_CHARS = params[\"NUM_CHARS\"]"
      ]
    },
    {
      "cell_type": "code",
      "source": [
        "def sample(preds, temperature=0.2):\n",
        "    preds = np.asarray(preds).astype(\"float64\")\n",
        "    preds = np.log(preds + 1e-8) / temperature\n",
        "    exp_preds = np.exp(preds)\n",
        "    preds = exp_preds / np.sum(exp_preds)\n",
        "    probas = np.random.multinomial(1, preds, 1)\n",
        "    return np.argmax(probas)\n",
        "\n",
        "def generar_texto(seed_text, model, length=100, temperature=0.2):\n",
        "    generated = seed_text\n",
        "    # Convert seed_text to lowercase for dictionary lookup\n",
        "    input_indices = [char2idx[c] for c in seed_text.lower()]\n",
        "\n",
        "    for _ in range(length):\n",
        "        x_pred = np.zeros((1, SEQ_LENGTH, NUM_CHARS))\n",
        "        # Use only the last SEQ_LENGTH characters for prediction input\n",
        "        for t, idx in enumerate(input_indices[-SEQ_LENGTH:]):\n",
        "            x_pred[0, t, idx] = 1\n",
        "\n",
        "        preds = model.predict(x_pred, verbose=0)[0]\n",
        "        next_index = sample(preds, temperature)\n",
        "        next_char = idx2char[next_index]\n",
        "\n",
        "        generated += next_char\n",
        "        input_indices.append(next_index)\n",
        "        # Keep input_indices at the length of SEQ_LENGTH\n",
        "        input_indices = input_indices[-SEQ_LENGTH:]\n",
        "\n",
        "\n",
        "    return generated"
      ],
      "metadata": {
        "id": "La6IMdPM2A-9"
      },
      "execution_count": 9,
      "outputs": []
    },
    {
      "cell_type": "code",
      "source": [
        "def preparar_seed(seed, seq_length=40):\n",
        "    # Rellena con espacios a la derecha si es más corto, o corta si es más largo\n",
        "    seed = seed.ljust(seq_length)[:seq_length]\n",
        "    return seed"
      ],
      "metadata": {
        "id": "dldHWZxV2z2d"
      },
      "execution_count": 10,
      "outputs": []
    },
    {
      "cell_type": "code",
      "source": [
        "seed_original = \"En un lugar de la Mancha, de cuyo nombre\"\n",
        "seed = preparar_seed(seed_original, 40)\n",
        "\n",
        "print(\"Texto generado con el modelo: lstm(128) y dropout de 0.3\")\n",
        "print(generar_texto(seed, model, length=100, temperature=0.2))\n",
        "print(\"\\n\\nTexto generado con el modelo: lstm(256), lstm(256), dropout de 0.3 y lstm(128)\")\n",
        "print(generar_texto(seed, model1, length=100, temperature=0.2))"
      ],
      "metadata": {
        "colab": {
          "base_uri": "https://localhost:8080/"
        },
        "id": "-g6BGrKy2EPu",
        "outputId": "544c1fa5-2685-4b75-daa5-1ca8d4e84e16"
      },
      "execution_count": 11,
      "outputs": [
        {
          "output_type": "stream",
          "name": "stdout",
          "text": [
            "Texto generado con el modelo: lstm(128) y dropout de 0.3\n",
            "En un lugar de la Mancha, de cuyo nombre, y así es muyo verdaderon en la mitad de mi amo, que se la entraba en el alma, por lo que se le ha \n",
            "\n",
            "\n",
            "Texto generado con el modelo: lstm(256), lstm(256), dropout de 0.3 y lstm(128)\n",
            "En un lugar de la Mancha, de cuyo nombre, de buena caballería sancho a su reyón y de mi cuenta de diez triado y mejor de don quijote, con mu\n"
          ]
        }
      ]
    }
  ]
}